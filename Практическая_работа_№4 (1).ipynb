{
  "cells": [
    {
      "cell_type": "markdown",
      "id": "bfc831d6",
      "metadata": {
        "id": "bfc831d6"
      },
      "source": [
        "# Практическая работа №4. Словари и JSON\n"
      ]
    },
    {
      "cell_type": "markdown",
      "id": "8bb09a39",
      "metadata": {
        "id": "8bb09a39"
      },
      "source": [
        "## Задание 4.1 — Словари (текст)\n",
        "1. Создание словаря.\n",
        "2. Обращение к ключам словаря.\n",
        "3. Метод setdefault().\n",
        "4. Перебор элементов словаря: по ключам, по значениям, по ключам и\n",
        "значениям одновременно.\n"
      ]
    },
    {
      "cell_type": "markdown",
      "id": "905d5495",
      "metadata": {
        "id": "905d5495"
      },
      "source": [
        "## Задание 4.2 — Вложенные структуры (текст)\n",
        "1. Вложенные списки.\n",
        "2. Проход по вложенному списку. Фильтрация.\n",
        "3. Вложенные словари.\n",
        "4. Фильтрация вложенных словарей"
      ]
    },
    {
      "cell_type": "markdown",
      "id": "d151a2f3",
      "metadata": {
        "id": "d151a2f3"
      },
      "source": [
        "## Задание 4.3 — JSON и data.json (текст)\n",
        "\n",
        "1. JSON-файл. Скачать файл data.json\n",
        "2. Открытие JSON -файла в Python. Библиотека json и функция open\n",
        "3. Работа с данными. библиотека Collections метод Counter().\n",
        "4. Анализ данных.\n",
        "5. Написать отчет.\n",
        "6. Написать программу.\n",
        "7. Выполнить задание."
      ]
    },
    {
      "cell_type": "markdown",
      "id": "a2c2bfb6",
      "metadata": {
        "id": "a2c2bfb6"
      },
      "source": [
        "## Варианты заданий — Вариант 9 (реализация)\n",
        "\n",
        "А) Напишите программу, которая анализирует текст на основе словаря,\n",
        "содержащий название моста и его длину, и длину пролета и сообщает к какой\n",
        "категории этот мост относится\n",
        "\n",
        "В) Выполните на основе набора данных data.json задание:\n",
        "Сколько клиентов совершили 5 действий с категорией (category) = page?"
      ]
    },
    {
      "cell_type": "code",
      "execution_count": null,
      "id": "99874656",
      "metadata": {
        "colab": {
          "base_uri": "https://localhost:8080/"
        },
        "id": "99874656",
        "outputId": "41c56ad5-744a-472f-c0ba-1f0812970b87"
      },
      "outputs": [
        {
          "output_type": "execute_result",
          "data": {
            "text/plain": [
              "{'Это': 3, 'пример': 6, 'текста': 6, 'для': 3, 'создания': 8, 'словаря': 7}"
            ]
          },
          "metadata": {},
          "execution_count": 1
        }
      ],
      "source": [
        "# A: словарь слова->длина\n",
        "text = 'Это пример текста для создания словаря'\n",
        "words = text.split()\n",
        "word_len = {w: len(w) for w in words}\n",
        "word_len"
      ]
    },
    {
      "cell_type": "code",
      "source": [
        "import json\n",
        "from collections import Counter\n",
        "import os\n",
        "\n",
        "# Путь к файлу\n",
        "path = '/mnt/data/DATA_unpacked/data.json'\n",
        "\n",
        "# Проверка существования файла\n",
        "if os.path.exists(path):\n",
        "    with open(path, encoding='utf-8') as f:\n",
        "        data_json = json.load(f)\n",
        "\n",
        "    # Берем список событий\n",
        "    data = data_json.get(\"events_data\", [])\n",
        "\n",
        "    # Считаем количество событий category='page' для каждого client_id\n",
        "    page_counts = Counter(item['client_id'] for item in data if item.get('category')=='page')\n",
        "\n",
        "    # Считаем, сколько клиентов совершили ровно 5 действий\n",
        "    clients_with_5_page = sum(1 for cnt in page_counts.values() if cnt == 5)\n",
        "\n",
        "    print('Количество клиентов с ровно 5 действиями category=\"page\":', clients_with_5_page)\n",
        "\n",
        "else:\n",
        "    print('data.json не найден')"
      ],
      "metadata": {
        "colab": {
          "base_uri": "https://localhost:8080/"
        },
        "id": "5jiBopHg1iWT",
        "outputId": "a9645062-4c32-4459-9161-a7f113760743"
      },
      "id": "5jiBopHg1iWT",
      "execution_count": 24,
      "outputs": [
        {
          "output_type": "stream",
          "name": "stdout",
          "text": [
            "Количество клиентов с ровно 5 действиями category=\"page\": 1\n"
          ]
        }
      ]
    },
    {
      "cell_type": "markdown",
      "source": [
        "Ответы на вопросы:\n",
        "\n"
      ],
      "metadata": {
        "id": "B8cwl9vc2P4h"
      },
      "id": "B8cwl9vc2P4h"
    },
    {
      "cell_type": "markdown",
      "source": [
        "1.Что такое словарь Словарь — это структура данных, хранящая пары «ключ — значение». Каждый ключ уникален и связан с определённым значением. Словари удобны для быстрого поиска данных по названию. Пример: {'имя': 'Павел', 'возраст': 19}"
      ],
      "metadata": {
        "id": "eOm9cSvO2UaG"
      },
      "id": "eOm9cSvO2UaG"
    },
    {
      "cell_type": "markdown",
      "source": [
        "2.Создание словаря Синтаксис: имя_словаря = {ключ: значение, ключ: значение} Можно создать пустой словарь {} или заполненный заранее. Пример: student = {'name': 'Иван', 'grade': 4}"
      ],
      "metadata": {
        "id": "8HAeZc2S2bag"
      },
      "id": "8HAeZc2S2bag"
    },
    {
      "cell_type": "markdown",
      "source": [
        "3.Обращение к ключам словаря К элементам словаря обращаются через квадратные скобки или метод get(). Примеры: student['name'] или student.get('grade')"
      ],
      "metadata": {
        "id": "RGxnycpJ2egE"
      },
      "id": "RGxnycpJ2egE"
    },
    {
      "cell_type": "markdown",
      "source": [
        "4.Перебор элементов словаря\n",
        "\n",
        "По ключам: for k in dict.keys()\n",
        "\n",
        "По значениям: for v in dict.values()\n",
        "\n",
        "По ключам и значениям одновременно: for k, v in dict.items() Это позволяет проходить по всему содержимому словаря разными способами."
      ],
      "metadata": {
        "id": "3C1G6N2d2gq1"
      },
      "id": "3C1G6N2d2gq1"
    },
    {
      "cell_type": "markdown",
      "source": [
        "5.Вложенные списки Вложенный список — это список, внутри которого находятся другие списки. Пример: [[1,2,3], [4,5,6], [7,8,9]] Используется для представления таблиц или многомерных данных."
      ],
      "metadata": {
        "id": "Os32uzTK2o6g"
      },
      "id": "Os32uzTK2o6g"
    },
    {
      "cell_type": "markdown",
      "source": [
        "6.Фильтрация вложенного списка Можно отбирать элементы по условию, например оставить только строки, где сумма больше заданной. Пример: [row for row in data if sum(row) > 10] То есть отбор только тех подсписков, которые удовлетворяют условию."
      ],
      "metadata": {
        "id": "19QfZT9j2rTG"
      },
      "id": "19QfZT9j2rTG"
    },
    {
      "cell_type": "markdown",
      "source": [
        "7.Вложенные словари Словарь, в котором значениями являются другие словари. Пример:\n",
        "\n",
        "students = {     'Иван': {'оценка': 5, 'возраст': 18},     'Анна': {'оценка': 4, 'возраст': 19} }"
      ],
      "metadata": {
        "id": "JTJRhk-W2tab"
      },
      "id": "JTJRhk-W2tab"
    },
    {
      "cell_type": "markdown",
      "source": [
        "8.Фильтрация вложенных словарей Проверяется условие внутри каждого подсловаря, например оставить только студентов с оценкой выше 4: {k:v for k,v in students.items() if v['оценка'] > 4}"
      ],
      "metadata": {
        "id": "xw2oihNu2xDn"
      },
      "id": "xw2oihNu2xDn"
    },
    {
      "cell_type": "markdown",
      "source": [
        "9.JSON-файл. Назначение JSON (JavaScript Object Notation) — формат хранения и обмена структурированными данными. Используется для передачи данных между программами и системами в виде текста."
      ],
      "metadata": {
        "id": "kXpJUww62y8I"
      },
      "id": "kXpJUww62y8I"
    },
    {
      "cell_type": "markdown",
      "source": [
        "10.Открытие JSON-файла в Python Для работы используется модуль json. Пример: import json with open('data.json', 'r', encoding='utf-8') as f: data = json.load(f)\n",
        "\n",
        "После этого данные из файла превращаются в словари и списки Python."
      ],
      "metadata": {
        "id": "U2e8SDPD21KW"
      },
      "id": "U2e8SDPD21KW"
    },
    {
      "cell_type": "markdown",
      "source": [
        "Метод Counter Метод Counter из модуля collections используется для подсчёта количества вхождений элементов. Синтаксис: from collections import Counter Counter(последовательность)\n",
        "\n",
        "Пример: Counter(['a','b','a','c']) → {'a': 2, 'b': 1, 'c': 1}"
      ],
      "metadata": {
        "id": "TSNtuSwV252t"
      },
      "id": "TSNtuSwV252t"
    }
  ],
  "metadata": {
    "colab": {
      "provenance": []
    },
    "language_info": {
      "name": "python"
    },
    "kernelspec": {
      "name": "python3",
      "display_name": "Python 3"
    }
  },
  "nbformat": 4,
  "nbformat_minor": 5
}