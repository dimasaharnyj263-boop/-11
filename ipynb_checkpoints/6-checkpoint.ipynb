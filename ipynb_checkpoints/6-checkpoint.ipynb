{
  "cells": [
    {
      "cell_type": "markdown",
      "id": "05604624",
      "metadata": {
        "id": "05604624"
      },
      "source": [
        "# Практическая работа №6. Pandas\n"
      ]
    },
    {
      "cell_type": "markdown",
      "id": "6f3e0527",
      "metadata": {
        "id": "6f3e0527"
      },
      "source": [
        "##Задание 6.1. Библиотека Pandas. Структуры Series и DataFrame\n",
        "1. Библиотека Pandas. Импорт библиотеки.\n",
        "2. Структура Series.\n",
        "3. Создание Series .\n",
        "4. Функция display.\n",
        "5. Доступ к элементам Series с использованием .loc или .iloc.\n",
        "6. Объект DataFrame. Создание"
      ]
    },
    {
      "cell_type": "markdown",
      "id": "9034f0d3",
      "metadata": {
        "id": "9034f0d3"
      },
      "source": [
        "##Задание 6.2. Основные операции\n",
        "1. Функция read_csv. Загрузить файл football.csv\n",
        "2. Получение информации о датафрейме: head и tail\n",
        "3. Получение информации о датафрейме: info\n",
        "4. Получение информации о датафрейме: describe\n",
        "5. Индексация и извлечение данных: статистические методы\n",
        "6. Извлечение данные по условиям\n",
        "7. Выполнить задание.\n",
        "8. Написать отчет."
      ]
    },
    {
      "cell_type": "markdown",
      "id": "65e2cf7c",
      "metadata": {
        "id": "65e2cf7c"
      },
      "source": [
        "## Варианты заданий — Вариант 9 (реализация)\n",
        "\n",
        "А) На football.csv: средняя SprintSpeed игроков, чья зарплата ниже средней.\n",
        "\n",
        "В) На StudentsPerformance.csv: процент abiturientov с lunch='standard'."
      ]
    },
    {
      "cell_type": "code",
      "execution_count": 43,
      "id": "2e761e4e",
      "metadata": {
        "colab": {
          "base_uri": "https://localhost:8080/"
        },
        "id": "2e761e4e",
        "outputId": "979c1d45-e93f-4972-9b80-f8d937522ea9"
      },
      "outputs": [
        {
          "output_type": "stream",
          "name": "stdout",
          "text": [
            "Средняя SprintSpeed (Wage < avg): 62.41\n"
          ]
        }
      ],
      "source": [
        "# A: football.csv\n",
        "import os, pandas as pd\n",
        "p='/mnt/data/DATA_unpacked'\n",
        "football=None\n",
        "for root,dirs,files in os.walk(p or ''):\n",
        "    for f in files:\n",
        "        if f.lower().endswith('football.csv'):\n",
        "            football=os.path.join(root,f); break\n",
        "    if football: break\n",
        "if football:\n",
        "    df=pd.read_csv(football)\n",
        "    if 'Wage' in df.columns and 'SprintSpeed' in df.columns:\n",
        "        df['Wage_num'] = df['Wage'].astype(str).str.replace('[^0-9.]','',regex=True).replace('',0).astype(float)\n",
        "        mean_speed = df.loc[df['Wage_num'] < df['Wage_num'].mean(), 'SprintSpeed'].astype(float).mean()\n",
        "        print('Средняя SprintSpeed (Wage < avg):', round(mean_speed,2))"
      ]
    },
    {
      "cell_type": "code",
      "execution_count": 44,
      "id": "012da47c",
      "metadata": {
        "colab": {
          "base_uri": "https://localhost:8080/"
        },
        "id": "012da47c",
        "outputId": "aae48087-04f8-48f6-ec1f-fbe87bd696ea"
      },
      "outputs": [
        {
          "output_type": "stream",
          "name": "stdout",
          "text": [
            "Процент с lunch=standard: 64.5 %\n"
          ]
        }
      ],
      "source": [
        "# B: StudentsPerformance.csv\n",
        "students=None\n",
        "for root,dirs,files in os.walk(p or ''):\n",
        "    for f in files:\n",
        "        if f.lower().endswith('studentsperformance.csv'):\n",
        "            students=os.path.join(root,f); break\n",
        "    if students: break\n",
        "if students:\n",
        "    s=pd.read_csv(students)\n",
        "    pct = (s['lunch']=='standard').mean()*100\n",
        "    print('Процент с lunch=standard:', round(pct,1),'%')"
      ]
    },
    {
      "cell_type": "markdown",
      "source": [
        "Ответы на вопросы:"
      ],
      "metadata": {
        "id": "EveIZQEi8Fma"
      },
      "id": "EveIZQEi8Fma"
    },
    {
      "cell_type": "markdown",
      "source": [
        "1.Библиотека Pandas. Импорт библиотеки Pandas — библиотека Python для работы с таблицами и структурированными данными. Позволяет удобно обрабатывать, анализировать и фильтровать данные. Импорт выполняется так: import pandas"
      ],
      "metadata": {
        "id": "s0z5xS1l8I76"
      },
      "id": "s0z5xS1l8I76"
    },
    {
      "cell_type": "markdown",
      "source": [
        "2.Структура Series Series — одномерный массив с метками индексов для каждого элемента. Может содержать числа, строки и другие типы данных. Пример: pd.Series([10, 20, 30]) создаёт серию с индексами 0,1,2 и значениями 10,20,30."
      ],
      "metadata": {
        "id": "CFMDl48S8LCL"
      },
      "id": "CFMDl48S8LCL"
    },
    {
      "cell_type": "markdown",
      "source": [
        "3.Создание Series Синтаксис: pd.Series(список/массив, index=список_индексов) Пример:\n",
        "\n",
        "s = pd.Series([100, 200, 300], index=['a','b','c'])\n",
        "\n",
        "Элементы можно обращаться по индексу: s['b'] → 200"
      ],
      "metadata": {
        "id": "kGmrU_0a8M-5"
      },
      "id": "kGmrU_0a8M-5"
    },
    {
      "cell_type": "markdown",
      "source": [
        "4.Функция display Используется для красивого отображения объектов Pandas (Series или DataFrame) в Jupyter Notebook. Синтаксис: display(объект) Пример: display(s)"
      ],
      "metadata": {
        "id": "faSePFC98R8K"
      },
      "id": "faSePFC98R8K"
    },
    {
      "cell_type": "markdown",
      "source": [
        "5.Доступ к элементам Series с использованием .loc или .iloc\n",
        "\n",
        ".loc — доступ по метке индекса\n",
        "\n",
        ".iloc — доступ по позиции элемента Примеры:\n",
        "\n",
        "s.loc['a']  # значение с индексом 'a' s.iloc[0] # первый элемент"
      ],
      "metadata": {
        "id": "zkLQFfvK8Tpm"
      },
      "id": "zkLQFfvK8Tpm"
    },
    {
      "cell_type": "markdown",
      "source": [
        "6.Объект DataFrame. Создание DataFrame — двумерная таблица данных, строки и столбцы которой имеют метки. Синтаксис создания:\n",
        "\n",
        "df = pd.DataFrame({'Имя':['Иван','Анна'], 'Возраст':[18,19]})\n",
        "\n",
        "Каждый столбец может быть Series или списком."
      ],
      "metadata": {
        "id": "d6SpUnA78asQ"
      },
      "id": "d6SpUnA78asQ"
    },
    {
      "cell_type": "markdown",
      "source": [
        "7.Функция read_csv Позволяет загрузить CSV-файл в DataFrame. Синтаксис: pd.read_csv('имя_файла.csv') Пример: df = pd.read_csv('data.csv')"
      ],
      "metadata": {
        "id": "PYTVS9lW8gOq"
      },
      "id": "PYTVS9lW8gOq"
    },
    {
      "cell_type": "markdown",
      "source": [
        "7.Получение информации о DataFrame: head и tail  df.head(n) — показывает первые n строк\n",
        "\n",
        "df.tail(n) — показывает последние n строк Пример: df.head(5)"
      ],
      "metadata": {
        "id": "rGXUYgsK8kHA"
      },
      "id": "rGXUYgsK8kHA"
    },
    {
      "cell_type": "markdown",
      "source": [
        "9.Получение информации о DataFrame: info Выводит основную информацию: количество строк, типы данных, наличие пропусков. Пример: df.info()"
      ],
      "metadata": {
        "id": "aIz7CtzD8naT"
      },
      "id": "aIz7CtzD8naT"
    },
    {
      "cell_type": "markdown",
      "source": [
        "10.Получение информации о DataFrame: describe Возвращает статистические характеристики числовых столбцов: среднее, стандартное отклонение, минимум, максимум, квартильные значения. Синтаксис: df.describe() Пример: df.describe()"
      ],
      "metadata": {
        "id": "EV8KHAFz8p-m"
      },
      "id": "EV8KHAFz8p-m"
    },
    {
      "cell_type": "markdown",
      "source": [
        "11.Индексация и извлечение данных: статистические методы С помощью методов Pandas можно вычислять статистику по столбцам или строкам:\n",
        "\n",
        "df.mean() — среднее\n",
        "\n",
        "df.median() — медиана\n",
        "\n",
        "df.max() / df.min() — максимум/минимум\n",
        "\n",
        "df.sum() — сумма Пример: df['Возраст'].mean() → средний возраст в столбце"
      ],
      "metadata": {
        "id": "9fh7x5L38r2k"
      },
      "id": "9fh7x5L38r2k"
    }
  ],
  "metadata": {
    "colab": {
      "provenance": []
    },
    "language_info": {
      "name": "python"
    },
    "kernelspec": {
      "name": "python3",
      "display_name": "Python 3"
    }
  },
  "nbformat": 4,
  "nbformat_minor": 5
}