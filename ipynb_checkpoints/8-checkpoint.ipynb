{
  "cells": [
    {
      "cell_type": "markdown",
      "id": "807da5fc",
      "metadata": {
        "id": "807da5fc"
      },
      "source": [
        "# Практическая работа №8. Предобработка данных\n"
      ]
    },
    {
      "cell_type": "markdown",
      "id": "8d137cc2",
      "metadata": {
        "id": "8d137cc2"
      },
      "source": [
        "##Задание 8.1. Предобработка данных.\n",
        "1. Чтение файла. Функция read_csv(). Загрузить файл sample.csv.\n",
        "2. Редактирование названия колонок. Функция columns().\n",
        "3. Очистка данных. Валидность данных. Функции unique() и info().\n",
        "4. Поиск значений с ошибками в файле sample.csv. Удаление столбца функция\n",
        "drop().\n",
        "5. Фильтрация ошибок. Функция query(). Функции str.match() и str.contains().\n",
        "6. Преобразование данных. Функция apply().\n"
      ]
    },
    {
      "cell_type": "markdown",
      "id": "722b01b5",
      "metadata": {
        "id": "722b01b5"
      },
      "source": [
        "##Задание 8.2. Анализ данных файла films.csv.\n",
        "1.Загрузить файл films.csv.\n",
        "\n",
        "2. Написать отчет.\n",
        "\n",
        "3. Выполнить задание."
      ]
    },
    {
      "cell_type": "markdown",
      "source": [
        "Задание варианта 9\n",
        "\n",
        "1)Выполните задание с применением собственных функций на основе\n",
        "набора данных films.csv:\n",
        "\n",
        "2)Какой актер снялся в большем количестве высокобюджетных фильмов?\n",
        "Примечание: в фильмах, где бюджет выше среднего по данной выборке.\n"
      ],
      "metadata": {
        "id": "2yfGfW7TBd8k"
      },
      "id": "2yfGfW7TBd8k"
    },
    {
      "cell_type": "code",
      "source": [
        "import pandas as pd\n",
        "import os\n",
        "\n",
        "path = '/mnt/data/DATA_unpacked/films.csv'\n",
        "\n",
        "if os.path.exists(path):\n",
        "    films = pd.read_csv(path)\n",
        "\n",
        "    print(\"Колонки:\", films.columns.tolist())\n",
        "    print(films.head(), \"\\n\")\n",
        "\n",
        "\n",
        "    def count_by_genre(df, genre_name):\n",
        "        \"\"\"\n",
        "        Считает количество фильмов, где встречается заданный жанр в колонке 'genres'.\n",
        "        \"\"\"\n",
        "        return df['genres'].apply(lambda x: genre_name in str(x).split('|')).sum()\n",
        "\n",
        "    def average_rating(df):\n",
        "        \"\"\"\n",
        "        Возвращает средний рейтинг фильмов по колонке 'vote_average'.\n",
        "        \"\"\"\n",
        "        return df['vote_average'].mean()\n",
        "\n",
        "\n",
        "    print(\"Количество фильмов жанра Action:\", count_by_genre(films, 'Action'))\n",
        "\n",
        "    print(\"Количество фильмов жанра Comedy:\", count_by_genre(films, 'Comedy'))\n",
        "\n",
        "    print(\"Средний рейтинг фильмов:\", round(average_rating(films), 2))\n",
        "\n",
        "else:\n",
        "    print('Файл films.csv не найден по пути', path)"
      ],
      "metadata": {
        "colab": {
          "base_uri": "https://localhost:8080/"
        },
        "id": "4u9ugAJ3FDdW",
        "outputId": "2317adbd-82ac-46d7-f2bf-474a744a2aa1"
      },
      "id": "4u9ugAJ3FDdW",
      "execution_count": 29,
      "outputs": [
        {
          "output_type": "stream",
          "name": "stdout",
          "text": [
            "Колонки: ['imdb_id', 'popularity', 'budget', 'revenue', 'original_title', 'cast', 'director', 'tagline', 'overview', 'runtime', 'genres', 'production_companies', 'release_date', 'vote_count', 'vote_average', 'release_year']\n",
            "     imdb_id  popularity     budget     revenue                original_title  \\\n",
            "0  tt0369610   32.985763  150000000  1513528810                Jurassic World   \n",
            "1  tt1392190   28.419936  150000000   378436354            Mad Max: Fury Road   \n",
            "2  tt2908446   13.112507  110000000   295238201                     Insurgent   \n",
            "3  tt2488496   11.173104  200000000  2068178225  Star Wars: The Force Awakens   \n",
            "4  tt2820852    9.335014  190000000  1506249360                     Furious 7   \n",
            "\n",
            "                                                cast          director  \\\n",
            "0  Chris Pratt|Bryce Dallas Howard|Irrfan Khan|Vi...   Colin Trevorrow   \n",
            "1  Tom Hardy|Charlize Theron|Hugh Keays-Byrne|Nic...     George Miller   \n",
            "2  Shailene Woodley|Theo James|Kate Winslet|Ansel...  Robert Schwentke   \n",
            "3  Harrison Ford|Mark Hamill|Carrie Fisher|Adam D...       J.J. Abrams   \n",
            "4  Vin Diesel|Paul Walker|Jason Statham|Michelle ...         James Wan   \n",
            "\n",
            "                         tagline  \\\n",
            "0              The park is open.   \n",
            "1             What a Lovely Day.   \n",
            "2     One Choice Can Destroy You   \n",
            "3  Every generation has a story.   \n",
            "4            Vengeance Hits Home   \n",
            "\n",
            "                                            overview  runtime  \\\n",
            "0  Twenty-two years after the events of Jurassic ...      124   \n",
            "1  An apocalyptic story set in the furthest reach...      120   \n",
            "2  Beatrice Prior must confront her inner demons ...      119   \n",
            "3  Thirty years after defeating the Galactic Empi...      136   \n",
            "4  Deckard Shaw seeks revenge against Dominic Tor...      137   \n",
            "\n",
            "                                      genres  \\\n",
            "0  Action|Adventure|Science Fiction|Thriller   \n",
            "1  Action|Adventure|Science Fiction|Thriller   \n",
            "2         Adventure|Science Fiction|Thriller   \n",
            "3   Action|Adventure|Science Fiction|Fantasy   \n",
            "4                      Action|Crime|Thriller   \n",
            "\n",
            "                                production_companies release_date  vote_count  \\\n",
            "0  Universal Studios|Amblin Entertainment|Legenda...     6/9/2015        5562   \n",
            "1  Village Roadshow Pictures|Kennedy Miller Produ...    5/13/2015        6185   \n",
            "2  Summit Entertainment|Mandeville Films|Red Wago...    3/18/2015        2480   \n",
            "3          Lucasfilm|Truenorth Productions|Bad Robot   12/15/2015        5292   \n",
            "4  Universal Pictures|Original Film|Media Rights ...     4/1/2015        2947   \n",
            "\n",
            "   vote_average  release_year  \n",
            "0           6.5          2015  \n",
            "1           7.1          2015  \n",
            "2           6.3          2015  \n",
            "3           7.5          2015  \n",
            "4           7.3          2015   \n",
            "\n",
            "Количество фильмов жанра Action: 583\n",
            "Количество фильмов жанра Comedy: 683\n",
            "Средний рейтинг фильмов: 6.14\n"
          ]
        }
      ]
    },
    {
      "cell_type": "code",
      "source": [
        "import pandas as pd\n",
        "import os\n",
        "from collections import Counter\n",
        "\n",
        "path = '/mnt/data/DATA_unpacked/films.csv'\n",
        "\n",
        "if os.path.exists(path):\n",
        "    films = pd.read_csv(path)\n",
        "\n",
        "    films['budget'] = pd.to_numeric(films['budget'], errors='coerce')\n",
        "\n",
        "    mean_budget = films['budget'].mean()\n",
        "    print(\"Средний бюджет фильмов:\", round(mean_budget, 2))\n",
        "\n",
        "    high_budget_films = films[films['budget'] > mean_budget]\n",
        "\n",
        "    all_actors = high_budget_films['cast'].dropna().apply(lambda x: x.split('|'))\n",
        "\n",
        "    actors_list = [actor for sublist in all_actors for actor in sublist]\n",
        "\n",
        "    actor_count = Counter(actors_list)\n",
        "\n",
        "    top_actor, num_films = actor_count.most_common(1)[0]\n",
        "    print(f\"Актёр с наибольшим числом высокобюджетных фильмов: {top_actor}, количество фильмов: {num_films}\")\n",
        "\n",
        "else:\n",
        "    print(\"Файл films.csv не найден по пути\", path)"
      ],
      "metadata": {
        "colab": {
          "base_uri": "https://localhost:8080/"
        },
        "id": "ooNQ_HCuFZZX",
        "outputId": "0f93d5c0-0272-49f9-f94d-fccdf78770fd"
      },
      "id": "ooNQ_HCuFZZX",
      "execution_count": 31,
      "outputs": [
        {
          "output_type": "stream",
          "name": "stdout",
          "text": [
            "Средний бюджет фильмов: 54506961.47\n",
            "Актёр с наибольшим числом высокобюджетных фильмов: Matt Damon, количество фильмов: 18\n"
          ]
        }
      ]
    },
    {
      "cell_type": "markdown",
      "source": [
        "Ответы на вопросы:"
      ],
      "metadata": {
        "id": "3XBrlU9lFng3"
      },
      "id": "3XBrlU9lFng3"
    },
    {
      "cell_type": "markdown",
      "source": [
        "1.Чтение файла. Функция read_csv() Используется для чтения CSV-файлов в DataFrame. Синтаксис: pandas.read_csv(путь_к_файлу, sep=',', encoding='utf-8', header=0)\n",
        "\n",
        "Пример:\n",
        "\n",
        "import pandas as pd\n",
        "\n",
        "data = pd.read_csv('sample.csv')"
      ],
      "metadata": {
        "id": "2jVYHhQvFpoK"
      },
      "id": "2jVYHhQvFpoK"
    },
    {
      "cell_type": "markdown",
      "source": [
        "2.Функция columns() Позволяет получить или изменить названия столбцов DataFrame. Синтаксис:\n",
        "\n",
        "data.columns        # получить список названий\n",
        "\n",
        "data.columns = [...] # изменить\n",
        "\n",
        "Пример: data.columns = ['Имя', 'Возраст', 'Город']"
      ],
      "metadata": {
        "id": "4d_8zv_qFvyb"
      },
      "id": "4d_8zv_qFvyb"
    },
    {
      "cell_type": "markdown",
      "source": [
        "3.Очистка данных. Валидность данных Очистка данных — это процесс исправления или удаления некорректных, дублированных или отсутствующих значений. Типовые шаги:\n",
        "\n",
        "Проверка пропусков (isna(), dropna(), fillna())\n",
        "\n",
        "Проверка дубликатов (duplicated())\n",
        "\n",
        "Проверка типов данных (dtypes)"
      ],
      "metadata": {
        "id": "_Qp0p8JMF6mO"
      },
      "id": "_Qp0p8JMF6mO"
    },
    {
      "cell_type": "markdown",
      "source": [
        "4.Функции unique() и info() unique() — возвращает уникальные значения столбца. info() — выводит типы данных и количество непустых значений. Пример:\n",
        "\n",
        "data['Город'].unique()\n",
        "\n",
        "data.info()"
      ],
      "metadata": {
        "id": "SVrjtRY1F-Lk"
      },
      "id": "SVrjtRY1F-Lk"
    },
    {
      "cell_type": "markdown",
      "source": [
        "5.Ошибки в данных (на примере sample.csv) Типичные проблемы, встречающиеся в реальных данных:\n",
        "\n",
        "5.1. Пропуски в столбцах (пустые ячейки)\n",
        "\n",
        "5.2. Дубли строк\n",
        "\n",
        "5.3. Некорректные типы (например, возраст строкой)\n",
        "\n",
        "5.4. Лишние пробелы в строках\n",
        "\n",
        "5.5. Опечатки и разные варианты написания (например, \"Moscow\", \"moscow\")\n",
        "\n",
        "5.6. Невалидные значения (например, отрицательный возраст)"
      ],
      "metadata": {
        "id": "czZQECbTGCqt"
      },
      "id": "czZQECbTGCqt"
    },
    {
      "cell_type": "markdown",
      "source": [
        "6.Удаление столбца. Функция drop() Используется для удаления строк или столбцов. Синтаксис: data.drop('ИмяСтолбца', axis=1, inplace=True)"
      ],
      "metadata": {
        "id": "4hcTLSJjGOPU"
      },
      "id": "4hcTLSJjGOPU"
    },
    {
      "cell_type": "markdown",
      "source": [
        "Пример: data.drop('НенужныйСтолбец', axis=1, inplace=True)"
      ],
      "metadata": {
        "id": "y-YO1JwUGWW-"
      },
      "id": "y-YO1JwUGWW-"
    },
    {
      "cell_type": "markdown",
      "source": [
        "7.Фильтрация ошибок. Функция query() Позволяет фильтровать строки по условию. Синтаксис: data.query('Возраст > 18 and Город == \"Москва\"')\n",
        "\n",
        "Пример: взрослые = data.query('Возраст >= 18')"
      ],
      "metadata": {
        "id": "9VHEVuFfGYOW"
      },
      "id": "9VHEVuFfGYOW"
    },
    {
      "cell_type": "markdown",
      "source": [
        "8.Функции str.match() и str.contains() Используются для фильтрации строковых данных по шаблону. Синтаксис и примеры:\n",
        "\n",
        "data[data['Город'].str.match('Мо.*')]\n",
        "\n",
        "        # начинается с 'Мо'\n",
        "\n",
        "data[data['Имя'].str.contains('ив', case=False)]  # содержит 'ив'"
      ],
      "metadata": {
        "id": "EmnaMZ1VGjt5"
      },
      "id": "EmnaMZ1VGjt5"
    },
    {
      "cell_type": "markdown",
      "source": [
        "9.Преобразование данных. Функция apply() Позволяет применить функцию к каждому элементу столбца. Синтаксис:\n",
        "\n",
        "data['Столбец'] = data['Столбец'].apply(функция)\n",
        "\n",
        "Пример:\n",
        "\n",
        "data['Возраст'] = data['Возраст'].apply(lambda x: int(x) if x != '' else 0)"
      ],
      "metadata": {
        "id": "h9CiFyvVGrdh"
      },
      "id": "h9CiFyvVGrdh"
    },
    {
      "cell_type": "markdown",
      "source": [
        "10.Алгоритм анализа данных индивидуального задания\n",
        "\n",
        "10.1. подключается файл ./Data/films.csv при помощи pandas.read_csv\n",
        "\n",
        "10.2. (опционально) Выводятся всевозможные данные о таблице внутри файла ./Data/films.csv\n",
        "\n",
        "10.3. Создается колонка pribuil, в котором подсчитывается прибыл для каждого фильма из таблицы\n",
        "\n",
        "10.4. при помощи собственно написанного метода getGanres из таблицы парсируются все жанры, что подсчитываются при помощи pandas.Series\n",
        "\n",
        "10.5. В выводе подсчитываются самый популярный жанр и самый популярный оттуда фильм"
      ],
      "metadata": {
        "id": "Usm69BMjGwT6"
      },
      "id": "Usm69BMjGwT6"
    }
  ],
  "metadata": {
    "colab": {
      "provenance": []
    },
    "language_info": {
      "name": "python"
    },
    "kernelspec": {
      "name": "python3",
      "display_name": "Python 3"
    }
  },
  "nbformat": 4,
  "nbformat_minor": 5
}