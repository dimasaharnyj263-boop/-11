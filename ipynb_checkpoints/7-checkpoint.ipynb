{
  "cells": [
    {
      "cell_type": "markdown",
      "id": "51585d48",
      "metadata": {
        "id": "51585d48"
      },
      "source": [
        "# Практическая работа №7. Функции и строки\n"
      ]
    },
    {
      "cell_type": "markdown",
      "id": "e00769fb",
      "metadata": {
        "id": "e00769fb"
      },
      "source": [
        "##Задание 7.1 Создание своих функций и их применение\n",
        "1. Определение функции. Аргументы функции.\n",
        "2. Вызов функции.\n",
        "3. Функция как объект**.\n",
        "4. Функция map()**.\n",
        "5. Лямбда-функции**.\n",
        "6. Функция filter()**\n",
        "7. Выполнить задание.\n"
      ]
    },
    {
      "cell_type": "markdown",
      "id": "250e2786",
      "metadata": {
        "id": "250e2786"
      },
      "source": [
        "##Задание 7.2. Операции над строками\n",
        "1. Строка - итерируемый объект. Индексация элементов строки.\n",
        "2. Поиск подстроки в строке. Срез.\n",
        "3. Методом find().\n",
        "4. Метод count().\n",
        "5. Методы lower() и upper()\n",
        "6. Метод replace().\n",
        "7. Регулярные выражения. Модуль re**"
      ]
    },
    {
      "cell_type": "markdown",
      "id": "fbb794d0",
      "metadata": {
        "id": "fbb794d0"
      },
      "source": [
        "##Задание 7.3. Анализ данных текстового файла.\n",
        "1. Загрузить файл StudentsPerformance.csv\n",
        "2. Преобразование данных файла в список.\n",
        "3. Преобразование данных файла в словарь.\n",
        "4. Общий алгоритм анализа данных.\n",
        "5. Выполнить задание.\n",
        "6. Написать отчет.\n"
      ]
    },
    {
      "cell_type": "markdown",
      "id": "8d82bb63",
      "metadata": {
        "id": "8d82bb63"
      },
      "source": [
        "## Варианты заданий — Вариант 9 (реализация)\n",
        "\n",
        "A) Выполните задание на основе набора данных StudentsPerformance.csv:\n",
        "A. Какой средний балл, полученный мальчиками на экзамене по чтению? Ответ\n",
        "округлите до трѐх цифр после запятой.\n",
        "\n",
        "B) Написать функцию, которая принимает строку, удаляет пробелы и с\n",
        "помощью регулярных выражений возвращает только строку, в которой есть\n",
        "только буквы. Если там есть другие символы, нужно возвращать ―error‖.\n",
        "Применить эту функцию к столбцу ―lunch― через лямбда функцию и результат\n",
        "записать в новый столбец."
      ]
    },
    {
      "cell_type": "code",
      "source": [
        "import pandas as pd\n",
        "import os\n",
        "\n",
        "path = '/mnt/data/DATA_unpacked/StudentsPerformance.csv'\n",
        "\n",
        "if os.path.exists(path):\n",
        "    s = pd.read_csv(path)\n",
        "\n",
        "    boys = s[s['gender'] == 'male']\n",
        "\n",
        "    mean_reading = boys['reading score'].mean()\n",
        "    print('Средний балл по Reading Score для мальчиков:', round(mean_reading, 3))"
      ],
      "metadata": {
        "colab": {
          "base_uri": "https://localhost:8080/"
        },
        "id": "JFC7vYfM-4RJ",
        "outputId": "238a2c74-417e-4f83-d83b-6e23bc1b696a"
      },
      "id": "JFC7vYfM-4RJ",
      "execution_count": 17,
      "outputs": [
        {
          "output_type": "stream",
          "name": "stdout",
          "text": [
            "Средний балл по Reading Score для мальчиков: 65.473\n"
          ]
        }
      ]
    },
    {
      "cell_type": "code",
      "source": [
        "import pandas as pd\n",
        "import re\n",
        "\n",
        "# Пусть DataFrame уже загружен, например s = pd.read_csv(...)\n",
        "\n",
        "def letters_only(text):\n",
        "    if not isinstance(text, str):\n",
        "        return \"error\"\n",
        "    text_no_space = text.replace(\" \", \"\")\n",
        "    if re.fullmatch(r\"[A-Za-z]+\", text_no_space):\n",
        "        return text_no_space\n",
        "    else:\n",
        "        return \"error\"\n",
        "\n",
        "s['lunch_clean'] = s['lunch'].apply(lambda x: letters_only(x))\n",
        "\n",
        "print(s[['lunch', 'lunch_clean']].head())"
      ],
      "metadata": {
        "colab": {
          "base_uri": "https://localhost:8080/"
        },
        "id": "pgqZabjI_USs",
        "outputId": "52c16dcb-670e-459a-9e1b-1a19e620c810"
      },
      "id": "pgqZabjI_USs",
      "execution_count": 18,
      "outputs": [
        {
          "output_type": "stream",
          "name": "stdout",
          "text": [
            "          lunch lunch_clean\n",
            "0      standard    standard\n",
            "1      standard    standard\n",
            "2      standard    standard\n",
            "3  free/reduced       error\n",
            "4      standard    standard\n"
          ]
        }
      ]
    },
    {
      "cell_type": "markdown",
      "source": [
        "Ответы на вопросы:"
      ],
      "metadata": {
        "id": "2FWUMtH0_zkc"
      },
      "id": "2FWUMtH0_zkc"
    },
    {
      "cell_type": "markdown",
      "source": [
        "1.Определение функции. Структура. Аргументы функции Функция — это блок кода, выполняющий определённую задачу и возвращающий результат. Синтаксис:\n",
        "\n",
        "def имя_функции(аргументы):\n",
        "\n",
        " тело_функции\n",
        "\n",
        "return результат\n",
        "\n",
        "Пример:\n",
        "\n",
        "def add(a, b):\n",
        "\n",
        " return a + b\n",
        "\n",
        "\n"
      ],
      "metadata": {
        "id": "rSwt6T-4_9rG"
      },
      "id": "rSwt6T-4_9rG"
    },
    {
      "cell_type": "markdown",
      "source": [
        "2.Вызов функции Функцию можно вызвать по имени с передачей аргументов: ` add(2, 3) # вернёт 5"
      ],
      "metadata": {
        "id": "gD5VN2BWAHVZ"
      },
      "id": "gD5VN2BWAHVZ"
    },
    {
      "cell_type": "markdown",
      "source": [
        "3.Функция как объект В Python функция является объектом, её можно присвоить переменной, передавать в другую функцию или хранить в списке. Пример:\n",
        "\n",
        "f = add\n",
        "\n",
        "f(1,2)  # вернёт 3"
      ],
      "metadata": {
        "id": "Csg3oq3GALYt"
      },
      "id": "Csg3oq3GALYt"
    },
    {
      "cell_type": "markdown",
      "source": [
        "4.Функция map() Применяет функцию ко всем элементам последовательности. Синтаксис: map(функция, итерируемый_объект) Пример:\n",
        "\n",
        "list(map(lambda x: x*2, [1,2,3]))  # [2,4,6]"
      ],
      "metadata": {
        "id": "U4byPTrAARQ3"
      },
      "id": "U4byPTrAARQ3"
    },
    {
      "cell_type": "markdown",
      "source": [
        "5.Лямбда-функции Короткая анонимная функция, используется для одноразовых операций. Пример: lambda x: x**2 — возводит число в квадрат."
      ],
      "metadata": {
        "id": "4UxesvaJAUnl"
      },
      "id": "4UxesvaJAUnl"
    },
    {
      "cell_type": "markdown",
      "source": [
        "6.Функция filter() Отбирает элементы последовательности по условию. Пример:\n",
        "\n",
        "list(filter(lambda x: x>2, [1,2,3,4]))  # [3,4]"
      ],
      "metadata": {
        "id": "qw-DjIXoAWfI"
      },
      "id": "qw-DjIXoAWfI"
    },
    {
      "cell_type": "markdown",
      "source": [
        "7.Строка — итерируемый объект. Индексация элементов строки Строка состоит из символов, к которым можно обращаться по индексу: строка[индекс]. Пример:\n",
        "\n",
        "s = \"Python\"\n",
        "\n",
        "s[0]  # 'P'\n",
        "\n",
        "s[-1] # 'n'"
      ],
      "metadata": {
        "id": "9bMppaIXAZ86"
      },
      "id": "9bMppaIXAZ86"
    },
    {
      "cell_type": "markdown",
      "source": [
        "8.Поиск подстроки и срез Срез: строка[начало:конец:шаг] — получает часть строки. Поиск подстроки: строка.find('подстрока') — возвращает индекс или -1, если нет. Пример:\n",
        "\n",
        "s = \"Hello World\"\n",
        "\n",
        "s[0:5]  # 'Hello'\n",
        "\n",
        "s.find(\"World\")  # 6\n"
      ],
      "metadata": {
        "id": "aGeFVWa2AfTJ"
      },
      "id": "aGeFVWa2AfTJ"
    },
    {
      "cell_type": "markdown",
      "source": [
        "9.Метод count() Считает количество вхождений подстроки в строку. Синтаксис: строка.count('подстрока') Пример:\n",
        "\n",
        "\"banana\".count('a') → 3"
      ],
      "metadata": {
        "id": "cY8ysMbBAlJF"
      },
      "id": "cY8ysMbBAlJF"
    },
    {
      "cell_type": "markdown",
      "source": [
        "10.Методы lower() и upper() Преобразуют строку в нижний или верхний регистр. Примеры:\n",
        "\n",
        "\n",
        "\"Python\".lower()  # 'python'\n",
        "\n",
        "\"Python\".upper()  # 'PYTHON'"
      ],
      "metadata": {
        "id": "841_P40YApK7"
      },
      "id": "841_P40YApK7"
    },
    {
      "cell_type": "markdown",
      "source": [
        "11.Метод replace() Заменяет одну подстроку на другую. Синтаксис: строка.replace(старое, новое) Пример:\n",
        "\n",
        "\"Hello\".replace(\"H\",\"J\") → 'Jello'"
      ],
      "metadata": {
        "id": "2emsEQTTAvAU"
      },
      "id": "2emsEQTTAvAU"
    },
    {
      "cell_type": "markdown",
      "source": [
        "12.Регулярные выражения. Модуль re Используются для поиска и обработки строк по шаблону. Примеры функций: re.search(), re.findall(), re.sub() Синтаксис:\n",
        "\n",
        "\n",
        "import re\n",
        "\n",
        "re.findall(r'\\d+', 'abc123')  # ['123']\n"
      ],
      "metadata": {
        "id": "1jAI3JAoAybj"
      },
      "id": "1jAI3JAoAybj"
    },
    {
      "cell_type": "markdown",
      "source": [
        "13.Файл CSV. CSV — это? CSV (Comma-Separated Values) — текстовый файл для хранения табличных данных, где значения разделены запятыми."
      ],
      "metadata": {
        "id": "81_gE2hXA2Va"
      },
      "id": "81_gE2hXA2Va"
    },
    {
      "cell_type": "markdown",
      "source": [
        "14.Алгоритм анализа данных индивидуального задания\n",
        "\n",
        "-Сбор данных из источников (CSV, JSON, базы данных)\n",
        "\n",
        "-Очистка и фильтрация данных\n",
        "\n",
        "-Преобразование и агрегирование данных (NumPy, Pandas)\n",
        "\n",
        "-Вычисление статистики (среднее, медиана, корреляция)\n",
        "\n",
        "-Визуализация или подготовка отчёта с результатами анализа"
      ],
      "metadata": {
        "id": "EJnsi5ADA4uT"
      },
      "id": "EJnsi5ADA4uT"
    }
  ],
  "metadata": {
    "colab": {
      "provenance": []
    },
    "language_info": {
      "name": "python"
    },
    "kernelspec": {
      "name": "python3",
      "display_name": "Python 3"
    }
  },
  "nbformat": 4,
  "nbformat_minor": 5
}