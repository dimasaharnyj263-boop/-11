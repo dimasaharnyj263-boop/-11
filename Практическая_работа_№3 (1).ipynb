{
  "cells": [
    {
      "cell_type": "markdown",
      "id": "6d3ab388",
      "metadata": {
        "id": "6d3ab388"
      },
      "source": [
        "# Практическая работа №3. Списки"
      ]
    },
    {
      "cell_type": "markdown",
      "id": "52bc3abb",
      "metadata": {
        "id": "52bc3abb"
      },
      "source": [
        "##Задание 3.1. Работа со списками\n",
        "1. Создание списка.\n",
        "2. Метод split.\n",
        "3. Индексация элементов списка. Обращение к элементу списка.\n",
        "4. Работа со срезами. Границы срезов.\n",
        "5. Срез с шагом."
      ]
    },
    {
      "cell_type": "markdown",
      "id": "9ced3f53",
      "metadata": {
        "id": "9ced3f53"
      },
      "source": [
        "##Задание 3.2. Методы для работы со списками\n",
        "1. Метод Append.\n",
        "2. Сортировка элементов списка. Метод sort.\n",
        "3. Статистические показатели списка: функции min, max, метод count\n",
        "4. Генераторы списков.\n",
        "5. Написать отчет.\n",
        "6. Написать программу.\n"
      ]
    },
    {
      "cell_type": "markdown",
      "id": "33af9cde",
      "metadata": {
        "id": "33af9cde"
      },
      "source": [
        "## Варианты заданий — Вариант 9 (реализация)\n",
        "\n",
        "Напишите программу, которая принимает на вход список чисел в одной\n",
        "строке (через генератор). Сформируйте список из значений, которые больше\n",
        "последнего."
      ]
    },
    {
      "cell_type": "code",
      "execution_count": null,
      "id": "d46b4cd3",
      "metadata": {
        "colab": {
          "base_uri": "https://localhost:8080/"
        },
        "id": "d46b4cd3",
        "outputId": "5c60dd9b-dafb-45c4-f029-e1a1c237f029"
      },
      "outputs": [
        {
          "output_type": "stream",
          "name": "stdout",
          "text": [
            "[5, 7]\n"
          ]
        }
      ],
      "source": [
        "# A\n",
        "def greater_than_last(lst):\n",
        "    if not lst: return []\n",
        "    last = lst[-1]\n",
        "    return [x for x in lst if x>last]\n",
        "\n",
        "print(greater_than_last([1,5,3,7,2,4]))"
      ]
    },
    {
      "cell_type": "code",
      "execution_count": null,
      "id": "6851695c",
      "metadata": {
        "colab": {
          "base_uri": "https://localhost:8080/"
        },
        "id": "6851695c",
        "outputId": "4ca14744-1c11-4161-91a2-b3c330dbaa38"
      },
      "outputs": [
        {
          "output_type": "stream",
          "name": "stdout",
          "text": [
            "3.0\n"
          ]
        }
      ],
      "source": [
        "# B\n",
        "def mean_positive(lst):\n",
        "    pos = [x for x in lst if x>0]\n",
        "    return sum(pos)/len(pos) if pos else None\n",
        "\n",
        "print(mean_positive([-1,2,3,-5,4]))"
      ]
    },
    {
      "cell_type": "markdown",
      "source": [
        "Ответы на вопросы:"
      ],
      "metadata": {
        "id": "1jQnr57buZKx"
      },
      "id": "1jQnr57buZKx"
    },
    {
      "cell_type": "markdown",
      "source": [
        "1.Список Список — это изменяемая последовательность объектов любого типа, объединённых в одну структуру. Он позволяет хранить числа, строки, другие списки и обращаться к элементам по индексу. Пример: [1, 2, 3, 'a', 'b']"
      ],
      "metadata": {
        "id": "ekiCvFhPucmI"
      },
      "id": "ekiCvFhPucmI"
    },
    {
      "cell_type": "markdown",
      "source": [
        "2.Создание списка Синтаксис: имя_списка = [элементы] Можно создавать пустой список: [], или сразу со значениями: [1, 2, 3]. Пример: fruits = ['яблоко', 'банан', 'вишня']\n",
        "\n"
      ],
      "metadata": {
        "id": "CQ5ULIASueXb"
      },
      "id": "CQ5ULIASueXb"
    },
    {
      "cell_type": "markdown",
      "source": [
        "3.Метод split Метод строк, который превращает строку в список слов по разделителю (по умолчанию — пробел). Синтаксис: строка.split(разделитель) Пример: 'Привет мир'.split() → ['Привет', 'мир']"
      ],
      "metadata": {
        "id": "F_KykTTJuhGr"
      },
      "id": "F_KykTTJuhGr"
    },
    {
      "cell_type": "markdown",
      "source": [
        "Индексация элементов списка Элементы списка имеют порядковые номера (индексы), начиная с 0. Можно обратиться к элементу через список[индекс] или с конца через отрицательные индексы. Пример:\n",
        "\n",
        "fruits[0]  # 'яблоко'\n",
        "\n",
        "fruits[-1] # 'вишня'"
      ],
      "metadata": {
        "id": "wqo0HAQ5ujmU"
      },
      "id": "wqo0HAQ5ujmU"
    },
    {
      "cell_type": "markdown",
      "source": [
        "Работа со срезами Срез позволяет получить часть списка: список[начало:конец:шаг]\n",
        "\n",
        "начало включается\n",
        "\n",
        "конец не включается\n",
        "\n",
        "шаг указывает через сколько элементов брать Пример:\n",
        "\n",
        " numbers = [1,2,3,4,5]\n",
        "\n",
        " numbers[1:4]  # [2,3,4]\n",
        "\n",
        " numbers[::2] # [1,3,5]\n",
        "\n",
        "\n"
      ],
      "metadata": {
        "id": "tDcW1Z-ruyyS"
      },
      "id": "tDcW1Z-ruyyS"
    },
    {
      "cell_type": "markdown",
      "source": [
        "6.Метод append Добавляет элемент в конец списка. Синтаксис: список.append(элемент) Пример:\n",
        "\n",
        "fruits.append('груша')  # ['яблоко','банан','вишня','груша']"
      ],
      "metadata": {
        "id": "4WOJxlo6vA4N"
      },
      "id": "4WOJxlo6vA4N"
    },
    {
      "cell_type": "markdown",
      "source": [
        "7.Метод sort Сортирует список по возрастанию (или убыванию с reverse=True). Синтаксис: список.sort() Пример:\n",
        "\n",
        "numbers.sort()  # [1,2,3,4,5]\n",
        "\n",
        "numbers.sort(reverse=True)  # [5,4,3,2,1]\n"
      ],
      "metadata": {
        "id": "6uVIw8pUvHR_"
      },
      "id": "6uVIw8pUvHR_"
    },
    {
      "cell_type": "markdown",
      "source": [
        "8.Функции min, max, метод count\n",
        "\n",
        "min(список) — минимальный элемент\n",
        "\n",
        "max(список) — максимальный элемент\n",
        "\n",
        "список.count(элемент) — считает, сколько раз элемент встречается Пример:  numbers = [1,2,2,3]\n",
        "\n",
        "min(numbers)  # 1\n",
        "\n",
        "max(numbers)  # 3\n",
        "\n",
        "numbers.count(2)  # 2"
      ],
      "metadata": {
        "id": "hsvdL344vRk3"
      },
      "id": "hsvdL344vRk3"
    },
    {
      "cell_type": "markdown",
      "source": [
        "9.Генераторы списков Позволяют создавать списки компактно на основе других последовательностей с условием. Синтаксис: [выражение for переменная in последовательность if условие] Пример: [x**2 for x in range(5)] → [0,1,4,9,16]\n",
        "\n"
      ],
      "metadata": {
        "id": "wEqtBJugv04q"
      },
      "id": "wEqtBJugv04q"
    },
    {
      "cell_type": "markdown",
      "source": [
        "10.Что делает данный код\n",
        "\n",
        "myList = [x for x in range(10, 100) if x%3 == 0 and x%5 == 0]\n",
        "\n",
        "Он создаёт список всех чисел от 10 до 99, которые одновременно делятся на 3 и на 5. То есть это кратные 15 числа в указанном диапазоне: [15,30,45,60,75,90]."
      ],
      "metadata": {
        "id": "iCGIhqGkv4pv"
      },
      "id": "iCGIhqGkv4pv"
    }
  ],
  "metadata": {
    "colab": {
      "provenance": []
    },
    "language_info": {
      "name": "python"
    },
    "kernelspec": {
      "name": "python3",
      "display_name": "Python 3"
    }
  },
  "nbformat": 4,
  "nbformat_minor": 5
}